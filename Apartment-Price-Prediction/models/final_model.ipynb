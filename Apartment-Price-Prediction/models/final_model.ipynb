{
 "cells": [
  {
   "cell_type": "markdown",
   "id": "89f0cf58",
   "metadata": {},
   "source": [
    "# Обучение модели на отобранных признаках"
   ]
  },
  {
   "cell_type": "markdown",
   "id": "e15da9f8",
   "metadata": {},
   "source": [
    "## 1 Импорт библиотек, инициализация глобальных констант"
   ]
  },
  {
   "cell_type": "markdown",
   "id": "f542bce0",
   "metadata": {},
   "source": [
    "### 1.1 Импорт библиотек"
   ]
  },
  {
   "cell_type": "code",
   "execution_count": 1,
   "id": "1892ddd2",
   "metadata": {},
   "outputs": [
    {
     "ename": "ModuleNotFoundError",
     "evalue": "No module named 'lightgbm'",
     "output_type": "error",
     "traceback": [
      "\u001b[0;31m---------------------------------------------------------------------------\u001b[0m",
      "\u001b[0;31mModuleNotFoundError\u001b[0m                       Traceback (most recent call last)",
      "Cell \u001b[0;32mIn[1], line 14\u001b[0m\n\u001b[1;32m     11\u001b[0m \u001b[38;5;28;01mfrom\u001b[39;00m \u001b[38;5;21;01msklearn\u001b[39;00m\u001b[38;5;21;01m.\u001b[39;00m\u001b[38;5;21;01mmodel_selection\u001b[39;00m \u001b[38;5;28;01mimport\u001b[39;00m KFold, train_test_split\n\u001b[1;32m     12\u001b[0m \u001b[38;5;28;01mfrom\u001b[39;00m \u001b[38;5;21;01msklearn\u001b[39;00m\u001b[38;5;21;01m.\u001b[39;00m\u001b[38;5;21;01mmetrics\u001b[39;00m \u001b[38;5;28;01mimport\u001b[39;00m mean_absolute_percentage_error\n\u001b[0;32m---> 14\u001b[0m \u001b[38;5;28;01mimport\u001b[39;00m \u001b[38;5;21;01mlightgbm\u001b[39;00m \u001b[38;5;28;01mas\u001b[39;00m \u001b[38;5;21;01mlgb\u001b[39;00m\n\u001b[1;32m     15\u001b[0m \u001b[38;5;28;01mfrom\u001b[39;00m \u001b[38;5;21;01mlightgbm\u001b[39;00m \u001b[38;5;28;01mimport\u001b[39;00m log_evaluation\n\u001b[1;32m     16\u001b[0m \u001b[38;5;28;01mimport\u001b[39;00m \u001b[38;5;21;01mshap\u001b[39;00m\n",
      "\u001b[0;31mModuleNotFoundError\u001b[0m: No module named 'lightgbm'"
     ]
    }
   ],
   "source": [
    "import pandas as pd\n",
    "import numpy as np\n",
    "import pickle\n",
    "import warnings\n",
    "from matplotlib import pyplot as plt\n",
    "import seaborn as sns\n",
    "from colorama import Fore, Back, Style\n",
    "import joblib\n",
    "\n",
    "from sklearn.preprocessing import OrdinalEncoder, LabelEncoder\n",
    "from sklearn.model_selection import KFold, train_test_split\n",
    "from sklearn.metrics import mean_absolute_percentage_error\n",
    "\n",
    "import lightgbm as lgb\n",
    "from lightgbm import log_evaluation\n",
    "import shap\n",
    "\n",
    "warnings.simplefilter('ignore')\n",
    "pd.set_option('display.max_columns', None)"
   ]
  },
  {
   "cell_type": "markdown",
   "id": "e8b64e39",
   "metadata": {},
   "source": [
    "### 1.2 Инициализация констант"
   ]
  },
  {
   "cell_type": "code",
   "execution_count": null,
   "id": "63b5bd30",
   "metadata": {},
   "outputs": [],
   "source": [
    "# целевая переменная\n",
    "TARGET_NAME = 'Цена_квм'\n",
    "# размер отложенной выборки\n",
    "TEST_SIZE = 0.15\n",
    "# random state для воспроизводимости\n",
    "RANDOM_STATE = 42"
   ]
  },
  {
   "cell_type": "markdown",
   "id": "7b08d1b5",
   "metadata": {},
   "source": [
    "## 2 Подготовка данных"
   ]
  },
  {
   "cell_type": "code",
   "execution_count": null,
   "id": "357ce2c0",
   "metadata": {},
   "outputs": [],
   "source": [
    "df = pd.read_csv('houseprices_final.csv')\n",
    "metros = pd.read_csv('metro_coords.csv')\n",
    "df.head()"
   ]
  },
  {
   "cell_type": "markdown",
   "id": "d2976f10",
   "metadata": {},
   "source": [
    "### 2.1 Кодирование станций метро"
   ]
  },
  {
   "cell_type": "code",
   "execution_count": null,
   "id": "0f155d2a",
   "metadata": {},
   "outputs": [],
   "source": [
    "metro_stations = np.append(metros['Станция'].values, ['нет'])\n",
    "\n",
    "le = LabelEncoder()\n",
    "\n",
    "le.fit(metro_stations.reshape(-1, 1))\n",
    "for i in range(1, 4):\n",
    "    df[f'Метро_{i}'] = le.transform(df[f'Метро_{i}'])\n",
    "# сохраняем\n",
    "le_dict = dict(zip(le.classes_, le.transform(le.classes_)))\n",
    "with open(\"metro_stations.pkl\", \"wb\") as f:\n",
    "    pickle.dump(le_dict, f)"
   ]
  },
  {
   "cell_type": "markdown",
   "id": "6bd2b360",
   "metadata": {},
   "source": [
    "### 2.2 Кодирование категориальных переменных"
   ]
  },
  {
   "cell_type": "code",
   "execution_count": null,
   "id": "a75d41e9",
   "metadata": {},
   "outputs": [],
   "source": [
    "cat_features = ['Район', 'Количество_комнат', 'Ремонт', 'Тип_дома']\n",
    "\n",
    "encoder = OrdinalEncoder(handle_unknown='use_encoded_value', unknown_value=-1)\n",
    "df[cat_features] = encoder.fit_transform(df[cat_features])\n",
    "# сохраняем\n",
    "with open(\"categorical_encoder.pkl\", \"wb\") as f:\n",
    "    pickle.dump(encoder, f)"
   ]
  },
  {
   "cell_type": "markdown",
   "id": "3adbb676",
   "metadata": {},
   "source": [
    "### 2.3 Отложенная выборка"
   ]
  },
  {
   "cell_type": "code",
   "execution_count": null,
   "id": "fd4b8299",
   "metadata": {},
   "outputs": [],
   "source": [
    "train, test = train_test_split(df,\n",
    "                               test_size=TEST_SIZE,\n",
    "                               stratify=df['Количество_комнат'],\n",
    "                               random_state=RANDOM_STATE)\n",
    "train = train.reset_index(drop=True)\n",
    "test = test.reset_index(drop=True)"
   ]
  },
  {
   "cell_type": "markdown",
   "id": "a80d43ac",
   "metadata": {},
   "source": [
    "## 3 Обучение модели"
   ]
  },
  {
   "cell_type": "markdown",
   "id": "cedfc0b0",
   "metadata": {},
   "source": [
    "### 3.1 Функция для обучения и получения предсказаний"
   ]
  },
  {
   "cell_type": "code",
   "execution_count": null,
   "id": "8b21e8ab",
   "metadata": {},
   "outputs": [],
   "source": [
    "def lgb_training(train_df, params, features, test_df=None, verbose=250):\n",
    "    \"\"\"\n",
    "    Функция для обучения модели.\n",
    "    \n",
    "    Параметры\n",
    "    ----------\n",
    "    train_df - обучающая выборка\n",
    "    params - набор гиперпараметров\n",
    "    features - признаки\n",
    "    test_df - тестовая выборка\n",
    "    verbose - вывод результатов\n",
    "    \n",
    "    Возвращает\n",
    "    -------\n",
    "    score_list - MAPE на кросс-валидации для каждого фолда\n",
    "    test_preds - предсказания на тестовой выборке, если тестовая выборка задана\n",
    "    oof_preds - предсказания для обучающей выборки\n",
    "    models - список обученных моделей\n",
    "    \"\"\"\n",
    "    test_preds = []\n",
    "    if test_df is not None:\n",
    "        test_preds = np.zeros(len(test_df))\n",
    "        test_df = test_df[features]\n",
    "    target = train_df.loc[:, TARGET_NAME].values\n",
    "\n",
    "    categorical_feature = list(set(features) & set(cat_features))\n",
    "    models = []\n",
    "    score_list = []\n",
    "    oof_preds = np.zeros(len(target))\n",
    "\n",
    "    kf = KFold(n_splits=5, shuffle=True, random_state=RANDOM_STATE)\n",
    "    for fold, (train_index, val_index) in enumerate(kf.split(train_df)):\n",
    "        X_train = train_df.loc[train_index, features]\n",
    "        X_val = train_df.loc[val_index, features]\n",
    "        y_train = target[train_index]\n",
    "        y_val = target[val_index]\n",
    "\n",
    "        lgb_train = lgb.Dataset(X_train,\n",
    "                                y_train,\n",
    "                                categorical_feature=categorical_feature)\n",
    "        lgb_valid = lgb.Dataset(X_val,\n",
    "                                y_val,\n",
    "                                categorical_feature=categorical_feature)\n",
    "\n",
    "        callbacks = [lgb.log_evaluation(period=verbose)]\n",
    "        model = lgb.train(params=params,\n",
    "                          train_set=lgb_train,\n",
    "                          num_boost_round=15000,\n",
    "                          valid_sets=[lgb_train, lgb_valid],\n",
    "                          categorical_feature=categorical_feature,\n",
    "                          callbacks=callbacks)\n",
    "\n",
    "        preds = model.predict(X_val)\n",
    "        oof_preds[val_index] = preds\n",
    "        score = mean_absolute_percentage_error(y_val, preds)\n",
    "\n",
    "        if test_df is not None:\n",
    "            test_preds += model.predict(test_df) / kf.n_splits\n",
    "\n",
    "        if verbose:\n",
    "            print(\n",
    "                f\"{Fore.BLACK}{Style.BRIGHT}FOLD: {fold}, MAPE: {score:.5f} {Style.RESET_ALL}\"\n",
    "            )\n",
    "        score_list.append(score)\n",
    "\n",
    "        models.append(model)\n",
    "\n",
    "    return score_list, test_preds, oof_preds, models"
   ]
  },
  {
   "cell_type": "markdown",
   "id": "4036300a",
   "metadata": {},
   "source": [
    "### 3.2 Гиперпараметры\n",
    "По сравнению с бейзлайном немного уменьшил learning_rate"
   ]
  },
  {
   "cell_type": "code",
   "execution_count": null,
   "id": "57e4b617",
   "metadata": {},
   "outputs": [],
   "source": [
    "params = {\n",
    "    'objective': 'mape',\n",
    "    'learning_rate': 0.25,\n",
    "    'reg_lambda': 5,\n",
    "    'random_state': 42,\n",
    "    'early_stopping_rounds': 300,\n",
    "    'feature_fraction': 0.4,\n",
    "    'verbose': -1\n",
    "}"
   ]
  },
  {
   "cell_type": "markdown",
   "id": "2c03b8ae",
   "metadata": {},
   "source": [
    "### 3.3 Отобранные признаки\n",
    "Признаки адрес, этаж, количество комнат, общая площадь, этаж, количество этажей в доме есть в каждом объявлении, поэтому решено было получать их от пользователя.\n",
    "\n",
    "На основе важности функций на основе перестановки определил наиболее важные созданные признаки"
   ]
  },
  {
   "cell_type": "code",
   "execution_count": null,
   "id": "c778adc9",
   "metadata": {},
   "outputs": [],
   "source": [
    "features = [\n",
    "    'Район', 'Количество_комнат', 'Общая_площадь', 'Ремонт', 'Этаж',\n",
    "    'Этажей_в_доме', 'Тип_дома', 'Расстояние_до_Краснопресненская',\n",
    "    'Координаты_кластер', 'Метро_1', 'Метро_2', 'Метро_3',\n",
    "    'Общая_площадь_минус_мин', 'Расстояние_до_Кремля', 'Расстояние_до_Киевская'\n",
    "]"
   ]
  },
  {
   "cell_type": "markdown",
   "id": "604c7c06",
   "metadata": {},
   "source": [
    "### 3.4 Обучение, сохранение моделей"
   ]
  },
  {
   "cell_type": "code",
   "execution_count": null,
   "id": "79cdd268",
   "metadata": {
    "scrolled": true
   },
   "outputs": [],
   "source": [
    "score_list, test_preds, oof_preds, models = lgb_training(train,\n",
    "                                                         params,\n",
    "                                                         features,\n",
    "                                                         test,\n",
    "                                                         verbose=500)\n",
    "test_score = mean_absolute_percentage_error(test[TARGET_NAME], test_preds)\n",
    "\n",
    "print(f\"{Fore.GREEN}{Style.BRIGHT}\\nMAPE на кросс-валидации:\", end=' ')\n",
    "print(f\"{np.mean(score_list):.5f} +- {np.std(score_list):.5f}\")\n",
    "\n",
    "print(f\"{Fore.RED}MAPE на тестовой выборке: {test_score:.5f}{Style.RESET_ALL}\")"
   ]
  },
  {
   "cell_type": "code",
   "execution_count": null,
   "id": "69abec32",
   "metadata": {},
   "outputs": [],
   "source": [
    "sns.histplot(np.abs(test[TARGET_NAME] - test_preds) / test[TARGET_NAME] * 100)\n",
    "plt.title(\"MAPE для тестовых данных\")\n",
    "plt.xlabel(\"MAPE, %\")\n",
    "plt.ylabel(\"Количество\")\n",
    "sns.despine()\n",
    "plt.show()"
   ]
  },
  {
   "cell_type": "markdown",
   "id": "45323cce",
   "metadata": {},
   "source": [
    "### 3.5 Сохранение\n",
    "Возможно 2 подхода:\n",
    "*  использовать 5 моделей, каждая из которых обучалась на 80% тренировочных данных\n",
    "*  обучить 1 модель на всей тренировочной выборке\n",
    "\n",
    "Посмотрим ошибку на тренировочной выборке при 2 способе. Для этого обучим зададим количество итераций, равное медиане лучших итерации на каждом фолде\n"
   ]
  },
  {
   "cell_type": "code",
   "execution_count": null,
   "id": "4b8006ed",
   "metadata": {},
   "outputs": [],
   "source": [
    "iterations = [model.best_iteration for model in models]\n",
    "n_iter = int(np.median(iterations)) + 1\n",
    "print('Лучшая итерация для каждого фолда:')\n",
    "print(iterations)"
   ]
  },
  {
   "cell_type": "code",
   "execution_count": null,
   "id": "ef7a7a49",
   "metadata": {},
   "outputs": [],
   "source": [
    "params['metric'] = None\n",
    "params['early_stopping_rounds'] = None\n",
    "\n",
    "model = lgb.train(params=params,\n",
    "                  train_set=lgb.Dataset(train[features], train[TARGET_NAME]),\n",
    "                  num_boost_round=n_iter,\n",
    "                  categorical_feature=cat_features,\n",
    "                  callbacks=[lgb.log_evaluation(period=0)])\n",
    "\n",
    "test_preds=model.predict(test[features])\n",
    "test_score=mean_absolute_percentage_error(test[TARGET_NAME],test_preds)\n",
    "print(f\"{Fore.RED}{Style.BRIGHT}MAPE на тестовой выборке: {test_score:.5f}{Style.RESET_ALL}\")"
   ]
  },
  {
   "cell_type": "markdown",
   "id": "33f7a22b",
   "metadata": {},
   "source": [
    "MAPE при таком способе оказалась выше на 0.002 по сравнению с первым способом. Думаю, это связано с тем, что предсказания моделей, обученных на 80% тренировочных данных (4 фолдах) хоть сколько-то некоррелированы, благодаря чему при усреднении удается снизить ошибку за счет уменьшения разброса"
   ]
  },
  {
   "cell_type": "code",
   "execution_count": null,
   "id": "23c21efc",
   "metadata": {},
   "outputs": [],
   "source": [
    "# сохранение\n",
    "for fold in range(5):\n",
    "    joblib.dump(models[fold], f'lgb_model_{fold}')"
   ]
  },
  {
   "cell_type": "markdown",
   "id": "25a81aa7",
   "metadata": {},
   "source": [
    "### 3.6 Эксперименты над улучшением модели\n"
   ]
  },
  {
   "cell_type": "markdown",
   "id": "7de913b3",
   "metadata": {},
   "source": [
    "Для каждого примера из тренировочной выборки посчитаем значение ошибки на кросс-валидации"
   ]
  },
  {
   "cell_type": "code",
   "execution_count": null,
   "id": "b8f1e51f",
   "metadata": {},
   "outputs": [],
   "source": [
    "train['MAPE'] = np.abs(train[TARGET_NAME] - oof_preds) / train[TARGET_NAME]\n",
    "\n",
    "train.sort_values(by='MAPE', ascending=False).head(10)"
   ]
  },
  {
   "cell_type": "markdown",
   "id": "8d8dc43e",
   "metadata": {},
   "source": [
    "Попробуем заново обучить модель, предварительно удалив из обучающей выборки объявления, ошибка на которых больше определенного порога"
   ]
  },
  {
   "cell_type": "code",
   "execution_count": null,
   "id": "3f898c87",
   "metadata": {},
   "outputs": [],
   "source": [
    "THRESHOLDS = [0.8, 0.9, 1, 1.2, 1.5]\n",
    "for thr in THRESHOLDS:\n",
    "    tmp_train = train.loc[train['MAPE'] < thr].reset_index(drop=True)\n",
    "    score_list, test_preds, _, _ = lgb_training(tmp_train,\n",
    "                                                params,\n",
    "                                                features,\n",
    "                                                test,\n",
    "                                                verbose=0)\n",
    "    test_score = mean_absolute_percentage_error(test[TARGET_NAME], test_preds)\n",
    "\n",
    "    print(f\"{Fore.BLACK}{Style.BRIGHT}Порог для удаления: {thr*100:.0f}%\")\n",
    "    print(f\"{Fore.GREEN}{Style.BRIGHT}MAPE на кросс-валидации:\", end=' ')\n",
    "    print(f\"{np.mean(score_list):.5f} +- {np.std(score_list):.5f}\")\n",
    "\n",
    "    print(\n",
    "        f\"{Fore.RED}MAPE на тестовой выборке: {test_score:.5f}{Style.RESET_ALL}\"\n",
    "    )\n",
    "    print()"
   ]
  },
  {
   "cell_type": "markdown",
   "id": "b8a6888c",
   "metadata": {},
   "source": [
    "## 4 Важность признаков и интерпретация предсказаний"
   ]
  },
  {
   "cell_type": "code",
   "execution_count": null,
   "id": "5e745a27",
   "metadata": {},
   "outputs": [],
   "source": [
    "explainer = shap.TreeExplainer(models[4])\n",
    "shap_values = explainer(test[features])"
   ]
  },
  {
   "cell_type": "code",
   "execution_count": null,
   "id": "f290c54b",
   "metadata": {},
   "outputs": [],
   "source": [
    "shap.plots.bar(shap_values, max_display=None)"
   ]
  },
  {
   "cell_type": "markdown",
   "id": "4e6230b1",
   "metadata": {},
   "source": [
    "Самым важным, как и при permutation importance, оказался Район. Как было выяснено в ходе разведывательного анализа данных, количество комнат слабо влияет на стоимость квадратного метра, что и видно на графике"
   ]
  },
  {
   "cell_type": "code",
   "execution_count": null,
   "id": "ce2178c3",
   "metadata": {},
   "outputs": [],
   "source": [
    "shap.plots.beeswarm(shap_values, max_display=None)"
   ]
  },
  {
   "cell_type": "markdown",
   "id": "71b042fa",
   "metadata": {},
   "source": [
    "Можно сделать следующие выводы:\n",
    "*  чем дальше от Кремля находится квартира, тем дешевле стоимость квадратного метра\n",
    "*  чем дальше от метро Киевская находится квартира, тем дешевле стоимость квадратного метра. Возможно, здесь важно учесть, что Киевская ближе всего к Москва-Сити (это подтверждает тот факт, что для модели так же важно и расстояние до метро Краснопресненская) или к Арбату\n",
    "*  чем больше этажей в доме, тем дороже стоимость квадратного метра. Я посмотрел [список самих высоких зданий Москвы](https://ru.wikipedia.org/wiki/%D0%A1%D0%BF%D0%B8%D1%81%D0%BE%D0%BA_%D1%81%D0%B0%D0%BC%D1%8B%D1%85_%D0%B2%D1%8B%D1%81%D0%BE%D0%BA%D0%B8%D1%85_%D0%B7%D0%B4%D0%B0%D0%BD%D0%B8%D0%B9_%D0%9C%D0%BE%D1%81%D0%BA%D0%B2%D1%8B) и почти во всех из них продается элитное жилье\n",
    "*  чем ниже этаж на котором расположена квартира, тем дешевле стоимость квадратного метра. [Возможно](https://realty.rbc.ru/news/577d242c9a7947a78ce91b8b) это связано с тем, что традиционно стоимость квадратного метра на первом этаже всегда ниже, чем в среднем по дому."
   ]
  },
  {
   "cell_type": "code",
   "execution_count": null,
   "id": "7cd087cc",
   "metadata": {},
   "outputs": [],
   "source": []
  }
 ],
 "metadata": {
  "kernelspec": {
   "display_name": "Python 3 (ipykernel)",
   "language": "python",
   "name": "python3"
  },
  "language_info": {
   "codemirror_mode": {
    "name": "ipython",
    "version": 3
   },
   "file_extension": ".py",
   "mimetype": "text/x-python",
   "name": "python",
   "nbconvert_exporter": "python",
   "pygments_lexer": "ipython3",
   "version": "3.11.5"
  },
  "varInspector": {
   "cols": {
    "lenName": 16,
    "lenType": 16,
    "lenVar": 40
   },
   "kernels_config": {
    "python": {
     "delete_cmd_postfix": "",
     "delete_cmd_prefix": "del ",
     "library": "var_list.py",
     "varRefreshCmd": "print(var_dic_list())"
    },
    "r": {
     "delete_cmd_postfix": ") ",
     "delete_cmd_prefix": "rm(",
     "library": "var_list.r",
     "varRefreshCmd": "cat(var_dic_list()) "
    }
   },
   "types_to_exclude": [
    "module",
    "function",
    "builtin_function_or_method",
    "instance",
    "_Feature"
   ],
   "window_display": false
  }
 },
 "nbformat": 4,
 "nbformat_minor": 5
}
